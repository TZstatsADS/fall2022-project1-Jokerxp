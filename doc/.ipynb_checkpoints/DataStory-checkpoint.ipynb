{
 "cells": [
  {
   "cell_type": "markdown",
   "id": "651ebcc5",
   "metadata": {},
   "source": [
    "# What contributed to the significant development of capitalism in the 19th century?"
   ]
  },
  {
   "cell_type": "markdown",
   "id": "00577581",
   "metadata": {},
   "source": [
    "As we know, capitalism is an economic and political system in which a country's trade and industry are controlled by private owners for profit rather than by the government. Most capitalism scholars regard that modern capitalism only fully emerged in the early modern period between the 16th and 18th centuries. Capitalism has been developing until now and most countries are basically capitalist country today around the world. However, development is imbalanced through the history. Maybe capitalism had a period of rapid development in some specific eras, while got stuck in some other eras. So a question emerges: whether there was an era that capitalism developed significant fast or not? If so, what and who contributed to it? Today I am going to explore this problem from the perspective of philosophy.\n",
    "\n",
    "I will implement the analysis based on mainly three famous publications: *The Wealth Of Nations*, Adam Smith, 1776; *On The Principles Of Political Economy And Taxatio*, David Ricardo, 1817; A General Theory Of Employment, Interest, And Money, John Maynard Keynes, 1936. "
   ]
  },
  {
   "cell_type": "markdown",
   "id": "c5cf9f4c",
   "metadata": {},
   "source": [
    "### What does capitalism focus on?"
   ]
  },
  {
   "cell_type": "markdown",
   "id": "8aaca8bc",
   "metadata": {},
   "source": [
    "First, let's figure out the main topics of capitalism in the three books. By counting words frequency among the three books, we can plot a word cloud figure which presents the importance of words. \n",
    "\n",
    "![avatar](../figs/wordcloud_capitalism.png)\n",
    "\n",
    "In a word cloud figure, words with a large size are in a relatively important position through the corpus. From the figure above, we can see some key words such as price, money, interest, employment, investment, quantity, etc. These words are consistent with our impression on capitalism, which focuses on production, market and finance."
   ]
  },
  {
   "cell_type": "markdown",
   "id": "e99a98f9",
   "metadata": {},
   "source": [
    "### Views of phylosophers \n"
   ]
  },
  {
   "cell_type": "markdown",
   "id": "ee4e0c97",
   "metadata": {},
   "source": [
    "Now we have a first impression on capitalism. Next, I am going to research on how these phylosophers from different eras viewed capitalism from their sentiments.\n",
    "So what are the sentiments? Let me give an example. When we say \"I am glad to see you\", it actually expresses a positive emotion which comes from the word \"glad\".\n",
    "Hence, we can deduce the attitude of phylosophers based on their emotions implied by the words they used, further conclude the trend of capitalism in their eras.\n",
    "\n",
    "I utilized NRC Emotion Lexicon to extract 5 emotion features in total, including fear, anticipation, trust, positive, negative and applied them on my study.\n",
    "The following is the figure of emotion scores of different era.\n",
    "\n",
    "![avatar](../figs/era_bar.png)\n",
    "           "
   ]
  },
  {
   "cell_type": "markdown",
   "id": "bc9eed34",
   "metadata": {},
   "source": [
    "The x-axis is the publication date of the three books, y-axis is the emotion scores calculated by the number of emotion word per word for different class of emotions. From the figure above, we can see there is a significant increasement of positive, trust and anticipation score from 1817 to 1936, while negative and fear score remain stable. That means at least Keynes was optimistic about the future of capitalisim compared to Smith and Ricardo in his era, which indicated a prosperity of capitalism during his era.\n"
   ]
  },
  {
   "cell_type": "markdown",
   "id": "c69f7c0e",
   "metadata": {},
   "source": [
    "Why Keynes had a different view of capitalism from the other two? In other words, what factors lead to his views? I will give my conclusion from two aspects: The development of capitalism and prosperity of other schools of phylosophers."
   ]
  },
  {
   "cell_type": "markdown",
   "id": "c381b558",
   "metadata": {},
   "source": [
    "### The development of capitalism"
   ]
  },
  {
   "cell_type": "markdown",
   "id": "376a4078",
   "metadata": {},
   "source": [
    "If a word appears frequently in a document but not in the whole corpus, then we can regard the word as a topic word for this document. Based on this idea which is also known as TF-IDF, we can get a table of top 10 topic words of publication in different eras.\n",
    "\n",
    "|| 1776        | 1817        |   1936      |\n",
    "|-----| ----------- | ----------- | ----------- |\n",
    "|1|upon      | price       |  will |\n",
    "|2| great  | will     |  rate  |\n",
    "|3| part  | value       |  interest  |\n",
    "|4| price  | corn        |  monry  |\n",
    "|5| country  | labour        |   investment |\n",
    "|6| one  | produce  | employment   |\n",
    "|7| greater  | capital        |  marginal  |\n",
    "|8| much  | quantity        |  output  |\n",
    "|9| labour  | commodities     |  capital  |\n",
    "|10| may  | rent       |  wage  |"
   ]
  },
  {
   "cell_type": "markdown",
   "id": "8a1317f2",
   "metadata": {},
   "source": [
    "From the table above, we can get a rough summarization about the three books. Before 1817, topics were mainly related to production, which can be inferred by some words like produce, labour, quantity, commoditied, etc. However, Keynes mainly focused on finance, like rate, interest, investment, marginal,capital and output. In my opinion, the transition from production to finance is one of the reasons that Keynes had a high expectation on capitalism."
   ]
  },
  {
   "cell_type": "markdown",
   "id": "39d89427",
   "metadata": {},
   "source": [
    "### Influence of other phylosophy schools"
   ]
  },
  {
   "cell_type": "markdown",
   "id": "d2513e11",
   "metadata": {},
   "source": [
    "Different phylosophy schools may also be related potentially to between each other. In this part, we want to judge if two different phylosophy fields have some similar topics. If so, we can deduce that two topics are highly related to each other.\n",
    "\n",
    "I determined to use a cosine similarity to meature the relationship between two phyposophy schools. The key is that if there are a great numebr of words that appear in both schools, then we regard the topics that two schools discussed about are similar. In order to increase the accuracy, we need to delete some words like \"I\",\"can\",\"you\", etc, since these words are commonly used in all ducuments but do almost no contribution to the topic. \n",
    "\n",
    "I chose 8 schools between 1600 and 1936 for research, including empiricism, rationalism, analytic, phenomenology, german_idealism, communism, nietzsche, feminism. The following is the heatmap of the correlation among the 8 schools.\n",
    "\n",
    "![avatar](../figs/heatmap.png)\n"
   ]
  },
  {
   "cell_type": "markdown",
   "id": "c130b887",
   "metadata": {},
   "source": [
    "The brighter a block is, the tighter relationship between the two schools which the block infers to. We can see the diagonal is white since one school is fully related to itself. For capitalism, the most related school is communism. An interesting thing is that all the communism documents used in this part ware publicated in the mid and late 19th century, between 1817 and 1936. More deeply, if we look at the word cloud of communism publications, we can find some common key words such as labour, value, development, but communism paid more attentions to class. We have reasons to believe the conflict between capitalism and communism promotes to the development of capitalism in the late 19th century and early 20th century.\n",
    "\n",
    "\n",
    "![avatar](../figs/wordcloud_communism.png)\n"
   ]
  }
 ],
 "metadata": {
  "kernelspec": {
   "display_name": "Python 3 (ipykernel)",
   "language": "python",
   "name": "python3"
  },
  "language_info": {
   "codemirror_mode": {
    "name": "ipython",
    "version": 3
   },
   "file_extension": ".py",
   "mimetype": "text/x-python",
   "name": "python",
   "nbconvert_exporter": "python",
   "pygments_lexer": "ipython3",
   "version": "3.9.7"
  }
 },
 "nbformat": 4,
 "nbformat_minor": 5
}
